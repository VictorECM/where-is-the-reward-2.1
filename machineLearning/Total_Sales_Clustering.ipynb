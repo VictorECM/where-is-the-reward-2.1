{
 "cells": [
  {
   "cell_type": "code",
   "execution_count": 1,
   "metadata": {},
   "outputs": [],
   "source": [
    "import pandas as pd\n",
    "import numpy as np\n",
    "import matplotlib.pyplot as plt"
   ]
  },
  {
   "cell_type": "code",
   "execution_count": 2,
   "metadata": {},
   "outputs": [],
   "source": [
    "url = 'https://raw.githubusercontent.com/MauCFD/Project_1/main/project%201%20-%20Analyzing%20a%20Loyalty%20Program/Project_df.csv'\n",
    "df1 = pd.read_csv(url)\n",
    "# Dataset is now stored in a Pandas Dataframe"
   ]
  },
  {
   "cell_type": "code",
   "execution_count": 3,
   "metadata": {},
   "outputs": [
    {
     "data": {
      "text/html": [
       "<div>\n",
       "<style scoped>\n",
       "    .dataframe tbody tr th:only-of-type {\n",
       "        vertical-align: middle;\n",
       "    }\n",
       "\n",
       "    .dataframe tbody tr th {\n",
       "        vertical-align: top;\n",
       "    }\n",
       "\n",
       "    .dataframe thead th {\n",
       "        text-align: right;\n",
       "    }\n",
       "</style>\n",
       "<table border=\"1\" class=\"dataframe\">\n",
       "  <thead>\n",
       "    <tr style=\"text-align: right;\">\n",
       "      <th></th>\n",
       "      <th>Client ID</th>\n",
       "      <th>Town</th>\n",
       "      <th>State</th>\n",
       "      <th>Month</th>\n",
       "      <th>Quarter</th>\n",
       "      <th>Year</th>\n",
       "      <th>Category</th>\n",
       "      <th>Distributor</th>\n",
       "      <th>Min Monthly Sales</th>\n",
       "      <th>Total Sales</th>\n",
       "      <th>Compliance</th>\n",
       "      <th>Total Points</th>\n",
       "      <th>Points Worth ($)</th>\n",
       "    </tr>\n",
       "  </thead>\n",
       "  <tbody>\n",
       "    <tr>\n",
       "      <th>0</th>\n",
       "      <td>2</td>\n",
       "      <td>Tlalnepantla</td>\n",
       "      <td>Ciudad de Mexico</td>\n",
       "      <td>1</td>\n",
       "      <td>1</td>\n",
       "      <td>2018</td>\n",
       "      <td>C4</td>\n",
       "      <td>D5</td>\n",
       "      <td>59000</td>\n",
       "      <td>51951</td>\n",
       "      <td>0.88</td>\n",
       "      <td>0</td>\n",
       "      <td>0.0</td>\n",
       "    </tr>\n",
       "    <tr>\n",
       "      <th>1</th>\n",
       "      <td>2</td>\n",
       "      <td>Tlalnepantla</td>\n",
       "      <td>Ciudad de Mexico</td>\n",
       "      <td>2</td>\n",
       "      <td>1</td>\n",
       "      <td>2018</td>\n",
       "      <td>C4</td>\n",
       "      <td>D5</td>\n",
       "      <td>59000</td>\n",
       "      <td>15301</td>\n",
       "      <td>0.26</td>\n",
       "      <td>0</td>\n",
       "      <td>0.0</td>\n",
       "    </tr>\n",
       "    <tr>\n",
       "      <th>2</th>\n",
       "      <td>2</td>\n",
       "      <td>Tlalnepantla</td>\n",
       "      <td>Ciudad de Mexico</td>\n",
       "      <td>5</td>\n",
       "      <td>2</td>\n",
       "      <td>2018</td>\n",
       "      <td>C4</td>\n",
       "      <td>D5</td>\n",
       "      <td>59000</td>\n",
       "      <td>19807</td>\n",
       "      <td>0.34</td>\n",
       "      <td>0</td>\n",
       "      <td>0.0</td>\n",
       "    </tr>\n",
       "    <tr>\n",
       "      <th>3</th>\n",
       "      <td>2</td>\n",
       "      <td>Tlalnepantla</td>\n",
       "      <td>Ciudad de Mexico</td>\n",
       "      <td>6</td>\n",
       "      <td>2</td>\n",
       "      <td>2018</td>\n",
       "      <td>C4</td>\n",
       "      <td>D5</td>\n",
       "      <td>59000</td>\n",
       "      <td>16916</td>\n",
       "      <td>0.29</td>\n",
       "      <td>0</td>\n",
       "      <td>0.0</td>\n",
       "    </tr>\n",
       "    <tr>\n",
       "      <th>4</th>\n",
       "      <td>2</td>\n",
       "      <td>Tlalnepantla</td>\n",
       "      <td>Ciudad de Mexico</td>\n",
       "      <td>8</td>\n",
       "      <td>3</td>\n",
       "      <td>2018</td>\n",
       "      <td>C4</td>\n",
       "      <td>D5</td>\n",
       "      <td>59000</td>\n",
       "      <td>88353</td>\n",
       "      <td>1.50</td>\n",
       "      <td>1080</td>\n",
       "      <td>928.8</td>\n",
       "    </tr>\n",
       "  </tbody>\n",
       "</table>\n",
       "</div>"
      ],
      "text/plain": [
       "   Client ID          Town             State  Month  Quarter  Year Category  \\\n",
       "0          2  Tlalnepantla  Ciudad de Mexico      1        1  2018       C4   \n",
       "1          2  Tlalnepantla  Ciudad de Mexico      2        1  2018       C4   \n",
       "2          2  Tlalnepantla  Ciudad de Mexico      5        2  2018       C4   \n",
       "3          2  Tlalnepantla  Ciudad de Mexico      6        2  2018       C4   \n",
       "4          2  Tlalnepantla  Ciudad de Mexico      8        3  2018       C4   \n",
       "\n",
       "  Distributor  Min Monthly Sales  Total Sales  Compliance  Total Points  \\\n",
       "0          D5              59000        51951        0.88             0   \n",
       "1          D5              59000        15301        0.26             0   \n",
       "2          D5              59000        19807        0.34             0   \n",
       "3          D5              59000        16916        0.29             0   \n",
       "4          D5              59000        88353        1.50          1080   \n",
       "\n",
       "   Points Worth ($)  \n",
       "0               0.0  \n",
       "1               0.0  \n",
       "2               0.0  \n",
       "3               0.0  \n",
       "4             928.8  "
      ]
     },
     "execution_count": 3,
     "metadata": {},
     "output_type": "execute_result"
    }
   ],
   "source": [
    "df1.head()"
   ]
  },
  {
   "cell_type": "code",
   "execution_count": 14,
   "metadata": {},
   "outputs": [
    {
     "data": {
      "text/plain": [
       "array([[51951.  ,     0.  ],\n",
       "       [15301.  ,     0.  ],\n",
       "       [19807.  ,     0.  ],\n",
       "       ...,\n",
       "       [26834.  ,   147.92],\n",
       "       [35671.  ,   105.78],\n",
       "       [57192.  ,  4515.86]])"
      ]
     },
     "execution_count": 14,
     "metadata": {},
     "output_type": "execute_result"
    }
   ],
   "source": [
    "x = df1.iloc[:, [9,12]].values\n",
    "x"
   ]
  },
  {
   "cell_type": "code",
   "execution_count": 15,
   "metadata": {},
   "outputs": [
    {
     "data": {
      "image/png": "[encoded data removed]",
      "text/plain": [
       "<Figure size 432x288 with 1 Axes>"
      ]
     },
     "metadata": {
      "needs_background": "light"
     },
     "output_type": "display_data"
    }
   ],
   "source": [
    "from sklearn.cluster import KMeans\n",
    "wcss = []\n",
    "for i in range(1,11):\n",
    "    kmeans = KMeans(n_clusters = i, init = \"k-means++\", max_iter = 300, n_init = 10, random_state = 0)\n",
    "    kmeans.fit(x)\n",
    "    wcss.append(kmeans.inertia_)\n",
    "plt.plot(range(1,11), wcss)\n",
    "plt.title(\"Método del codo\")\n",
    "plt.xlabel(\"Número de clusters\")\n",
    "plt.ylabel(\"wcss(k)\")\n",
    "plt.show()"
   ]
  },
  {
   "cell_type": "code",
   "execution_count": 21,
   "metadata": {},
   "outputs": [],
   "source": [
    "kmeans = KMeans(n_clusters = 4, init = \"k-means++\", max_iter = 300, n_init = 10, random_state = 0)\n",
    "y_kmeans = kmeans.fit_predict(x)"
   ]
  },
  {
   "cell_type": "code",
   "execution_count": 23,
   "metadata": {},
   "outputs": [
    {
     "data": {
      "image/png": "[encoded data removed]",
      "text/plain": [
       "<Figure size 432x288 with 1 Axes>"
      ]
     },
     "metadata": {
      "needs_background": "light"
     },
     "output_type": "display_data"
    }
   ],
   "source": [
    "plt.scatter(x[y_kmeans == 0, 0], x[y_kmeans == 0,1], s= 100, c= \"red\", label = \"Cluster 1\")\n",
    "plt.scatter(x[y_kmeans == 1, 0], x[y_kmeans == 1,1], s= 100, c= \"blue\", label = \"Cluster 2\")\n",
    "plt.scatter(x[y_kmeans == 2, 0], x[y_kmeans == 2,1], s= 100, c= \"green\", label = \"Cluster 3\")\n",
    "plt.scatter(x[y_kmeans == 3, 0], x[y_kmeans == 3,1], s= 100, c= \"orange\", label = \"Cluster 4\")\n",
    "plt.title(\"Customer Clustering\")\n",
    "plt.xlabel(\"Points Worth$\")\n",
    "plt.ylabel(\"Total Sales (accumulated)\")\n",
    "plt.legend()\n",
    "plt.savefig('4Cl_totsales_pointsworth', dpi=None, facecolor='w', edgecolor='w',\n",
    "        orientation='portrait', format=None,\n",
    "        transparent=False, bbox_inches=None, pad_inches=0.1,\n",
    "        metadata=None)\n",
    "plt.show()                                                              "
   ]
  },
  {
   "cell_type": "code",
   "execution_count": 24,
   "metadata": {},
   "outputs": [
    {
     "data": {
      "text/plain": [
       "array([0, 0, 0, ..., 0, 0, 0], dtype=int32)"
      ]
     },
     "execution_count": 24,
     "metadata": {},
     "output_type": "execute_result"
    }
   ],
   "source": [
    "y_kmeans"
   ]
  },
  {
   "cell_type": "code",
   "execution_count": null,
   "metadata": {},
   "outputs": [],
   "source": []
  }
 ],
 "metadata": {
  "kernelspec": {
   "display_name": "Python 3",
   "language": "python",
   "name": "python3"
  },
  "language_info": {
   "codemirror_mode": {
    "name": "ipython",
    "version": 3
   },
   "file_extension": ".py",
   "mimetype": "text/x-python",
   "name": "python",
   "nbconvert_exporter": "python",
   "pygments_lexer": "ipython3",
   "version": "3.8.8"
  }
 },
 "nbformat": 4,
 "nbformat_minor": 4
}
